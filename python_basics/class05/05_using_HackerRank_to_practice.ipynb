{
 "cells": [
  {
   "cell_type": "code",
   "execution_count": null,
   "metadata": {},
   "outputs": [],
   "source": [
    "# Intro to Python3 - Class05\n",
    "\n",
    "### Class agenda:\n",
    "##### 9. Using HackerRank to practice your programming skill\n",
    "\n",
    "\n",
    "## 9. Using HackerRank to practice your programming skill\n",
    "There are lots of online resources you can use to practice data structure and algo. Two popular options are Leet Code and Hacker Rank. Many companies use them for interviews too. So if you practice and get familairized with the interface, you might already set yourself up for success.\n",
    "\n",
    "I'll take HackerRank to examples in this class. Let's look at a problem together and learn about the website.\n",
    "\n",
    "- [if-else problem](https://www.hackerrank.com/challenges/py-if-else/problem)"
   ]
  },
  {
   "cell_type": "code",
   "execution_count": 3,
   "metadata": {},
   "outputs": [
    {
     "name": "stdout",
     "output_type": "stream",
     "text": [
      "654665\n",
      "Weird\n"
     ]
    }
   ],
   "source": [
    "#!/bin/python3\n",
    "\n",
    "import math\n",
    "import os\n",
    "import random\n",
    "import re\n",
    "import sys\n",
    "\n",
    "\n",
    "\n",
    "if __name__ == '__main__':\n",
    "    n = int(input().strip())\n",
    "    if n % 2:\n",
    "        print('Weird')\n",
    "    elif n <= 5 or n > 20:\n",
    "        print('Not Weird')\n",
    "    else:\n",
    "        print('Weird')"
   ]
  },
  {
   "cell_type": "markdown",
   "metadata": {},
   "source": [
    "Solving the problem is the first step, then you can challeng yourself to use less and less compexity in your solution. Let's take the following problem as an example\n",
    "\n",
    "- [mini-max-sum](https://www.hackerrank.com/challenges/mini-max-sum/problem)"
   ]
  },
  {
   "cell_type": "code",
   "execution_count": 4,
   "metadata": {},
   "outputs": [
    {
     "name": "stdout",
     "output_type": "stream",
     "text": [
      "456321\n",
      "(456321, 456321)\n"
     ]
    }
   ],
   "source": [
    "import math\n",
    "import os\n",
    "import random\n",
    "import re\n",
    "import sys\n",
    "\n",
    "# Complete the miniMaxSum function below.\n",
    "def miniMaxSum(arr):\n",
    "    s_arr = sorted(arr)\n",
    "    return(sum(s_arr[:4]), sum(s_arr[-4:]))\n",
    "\n",
    "if __name__ == '__main__':\n",
    "    arr = list(map(int, input().rstrip().split()))\n",
    "    \n",
    "    print(miniMaxSum(arr))"
   ]
  },
  {
   "cell_type": "code",
   "execution_count": 5,
   "metadata": {},
   "outputs": [],
   "source": [
    "def miniMaxSum_2(arr):\n",
    "    asum = sum(arr)\n",
    "    return(asum - max(arr), asum - min(arr))"
   ]
  },
  {
   "cell_type": "code",
   "execution_count": 6,
   "metadata": {},
   "outputs": [],
   "source": [
    "def miniMaxSum_3(arr):\n",
    "    amin = math.inf\n",
    "    amax = -math.inf\n",
    "    asum = 0\n",
    "    for a in arr:\n",
    "        if a < amin: amin = a\n",
    "        if a > amax: amax = a\n",
    "        asum += a\n",
    "    return(asum - amax, asum - amin)"
   ]
  },
  {
   "cell_type": "code",
   "execution_count": 7,
   "metadata": {},
   "outputs": [
    {
     "data": {
      "text/plain": [
       "array([203, 395, 790, 478, 964, 611, 375,  40, 618, 723, 928, 172, 476,\n",
       "       728, 462, 559, 143, 629, 772, 717, 724, 101, 691, 898, 807, 227,\n",
       "       495, 316, 186, 890, 488, 225, 403, 307, 547,  23, 617, 763,  26,\n",
       "       857, 651, 943, 699, 452, 248, 256, 600, 698, 378, 613, 716, 713,\n",
       "       750, 952, 735, 348, 304, 955, 914, 875, 585, 978, 978, 616, 180,\n",
       "       472, 616,  34, 209, 646,  36, 688, 194, 585,  67, 722, 752, 127,\n",
       "       751, 304, 912, 141, 650, 893, 595, 229, 298, 533,  59, 592, 323,\n",
       "       497, 882, 174, 182, 599, 701, 241, 708, 732, 268, 983, 892,  23,\n",
       "       655, 401, 672, 179, 109,  82, 135, 991, 821, 812, 680, 463, 455,\n",
       "       391, 699, 275, 897, 367, 835, 968, 762,  20, 724, 889, 616, 596,\n",
       "       533,  62, 569, 918, 302, 876, 974, 304, 830, 371, 655, 776, 656,\n",
       "       857, 951, 941, 650,  62, 818, 977, 527, 638, 828, 833, 811, 287,\n",
       "       110, 724, 636, 876, 792, 665, 305, 199, 838, 304, 391, 440, 367,\n",
       "       116, 658, 178, 543, 112,  79, 916, 929, 278, 965, 978, 843, 326,\n",
       "       600, 597, 450, 842, 379, 789, 192, 786, 715, 932, 334, 778, 154,\n",
       "       174, 958, 697, 326, 642])"
      ]
     },
     "execution_count": 7,
     "metadata": {},
     "output_type": "execute_result"
    }
   ],
   "source": [
    "from numpy import random\n",
    "a1 = random.randint(1, 1000, 200)\n",
    "a1"
   ]
  },
  {
   "cell_type": "code",
   "execution_count": 8,
   "metadata": {},
   "outputs": [
    {
     "name": "stdout",
     "output_type": "stream",
     "text": [
      "46.2 µs ± 670 ns per loop (mean ± std. dev. of 7 runs, 10000 loops each)\n"
     ]
    }
   ],
   "source": [
    "%timeit miniMaxSum(a1)"
   ]
  },
  {
   "cell_type": "code",
   "execution_count": 9,
   "metadata": {},
   "outputs": [
    {
     "name": "stdout",
     "output_type": "stream",
     "text": [
      "56.3 µs ± 5.94 µs per loop (mean ± std. dev. of 7 runs, 10000 loops each)\n"
     ]
    }
   ],
   "source": [
    "%timeit miniMaxSum_2(a1)"
   ]
  },
  {
   "cell_type": "code",
   "execution_count": 10,
   "metadata": {},
   "outputs": [
    {
     "name": "stdout",
     "output_type": "stream",
     "text": [
      "55.8 µs ± 14 µs per loop (mean ± std. dev. of 7 runs, 10000 loops each)\n"
     ]
    }
   ],
   "source": [
    "%timeit miniMaxSum_3(a1)"
   ]
  },
  {
   "cell_type": "code",
   "execution_count": 11,
   "metadata": {},
   "outputs": [],
   "source": [
    "import numpy as np\n",
    "import timeit\n",
    "import pandas as pd\n",
    "%matplotlib inline"
   ]
  },
  {
   "cell_type": "code",
   "execution_count": 12,
   "metadata": {},
   "outputs": [
    {
     "data": {
      "text/plain": [
       "<matplotlib.axes._subplots.AxesSubplot at 0x2bc85418048>"
      ]
     },
     "execution_count": 12,
     "metadata": {},
     "output_type": "execute_result"
    },
    {
     "data": {
      "image/png": "[encoded data removed]",
      "text/plain": [
       "<Figure size 432x288 with 1 Axes>"
      ]
     },
     "metadata": {
      "needs_background": "light"
     },
     "output_type": "display_data"
    }
   ],
   "source": [
    "performance = {}\n",
    "\n",
    "for n in np.logspace(1, 6, num=20):\n",
    "    sample_size = int(np.ceil(n))\n",
    "    a = np.random.randint(1, 1000, sample_size)\n",
    "    t1 = timeit.timeit('miniMaxSum(a)','from __main__ import miniMaxSum, a', number=100)\n",
    "    t2 = timeit.timeit('miniMaxSum_2(a)','from __main__ import miniMaxSum_2, a', number=100)\n",
    "    t3 = timeit.timeit('miniMaxSum_3(a)','from __main__ import miniMaxSum_3, a', number=100)\n",
    "    performance[sample_size] = (t1, t2, t3)\n",
    "    \n",
    "perf_df = pd.DataFrame.from_dict(performance, orient='index')\n",
    "perf_df.plot(kind='line')"
   ]
  },
  {
   "cell_type": "code",
   "execution_count": null,
   "metadata": {},
   "outputs": [],
   "source": [
    " "
   ]
  },
  {
   "cell_type": "code",
   "execution_count": null,
   "metadata": {},
   "outputs": [],
   "source": []
  }
 ],
 "metadata": {
  "kernelspec": {
   "display_name": "Python 3",
   "language": "python",
   "name": "python3"
  },
  "language_info": {
   "codemirror_mode": {
    "name": "ipython",
    "version": 3
   },
   "file_extension": ".py",
   "mimetype": "text/x-python",
   "name": "python",
   "nbconvert_exporter": "python",
   "pygments_lexer": "ipython3",
   "version": "3.7.4"
  }
 },
 "nbformat": 4,
 "nbformat_minor": 2
}
